{
  "metadata": {
    "kernelspec": {
      "language": "python",
      "display_name": "Python 3",
      "name": "python3"
    },
    "language_info": {
      "pygments_lexer": "ipython3",
      "nbconvert_exporter": "python",
      "version": "3.6.4",
      "file_extension": ".py",
      "codemirror_mode": {
        "name": "ipython",
        "version": 3
      },
      "name": "python",
      "mimetype": "text/x-python"
    },
    "kaggle": {
      "accelerator": "none",
      "dataSources": [
        {
          "sourceId": 2824917,
          "sourceType": "datasetVersion",
          "datasetId": 1727728
        }
      ],
      "dockerImageVersionId": 30152,
      "isInternetEnabled": false,
      "language": "python",
      "sourceType": "notebook",
      "isGpuEnabled": false
    },
    "colab": {
      "provenance": []
    }
  },
  "nbformat_minor": 0,
  "nbformat": 4,
  "cells": [
    {
      "cell_type": "markdown",
      "source": [
        "# Step 0: Imports and Reading Data"
      ],
      "metadata": {
        "id": "0A3I760nsiAj"
      }
    },
    {
      "cell_type": "code",
      "source": [
        "import pandas as pd\n",
        "import numpy as np\n",
        "import matplotlib.pylab as plt\n",
        "import seaborn as sns\n",
        "plt.style.use('ggplot')\n",
        "pd.set_option('max_columns', 200)"
      ],
      "metadata": {
        "_uuid": "8f2839f25d086af736a60e9eeb907d3b93b6e0e5",
        "_cell_guid": "b1076dfc-b9ad-4769-8c92-a6c4dae69d19",
        "execution": {
          "iopub.status.busy": "2021-12-31T18:56:46.353551Z",
          "iopub.execute_input": "2021-12-31T18:56:46.354085Z",
          "iopub.status.idle": "2021-12-31T18:56:46.358825Z",
          "shell.execute_reply.started": "2021-12-31T18:56:46.354032Z",
          "shell.execute_reply": "2021-12-31T18:56:46.358025Z"
        },
        "trusted": true,
        "id": "gvnMPeLBsiAl"
      },
      "execution_count": null,
      "outputs": []
    },
    {
      "cell_type": "code",
      "source": [
        "df = pd.read_csv('../input/rollercoaster-database/coaster_db.csv')"
      ],
      "metadata": {
        "execution": {
          "iopub.status.busy": "2021-12-31T18:56:46.639134Z",
          "iopub.execute_input": "2021-12-31T18:56:46.639719Z",
          "iopub.status.idle": "2021-12-31T18:56:46.667382Z",
          "shell.execute_reply.started": "2021-12-31T18:56:46.639684Z",
          "shell.execute_reply": "2021-12-31T18:56:46.666476Z"
        },
        "trusted": true,
        "id": "HAVUqGqCsiAm"
      },
      "execution_count": null,
      "outputs": []
    },
    {
      "cell_type": "markdown",
      "source": [
        "## Step 1: Data Understanding\n",
        "- Dataframe `shape`\n",
        "- `head` and `tail`\n",
        "- `dtypes`\n",
        "- `describe`\n"
      ],
      "metadata": {
        "id": "9LrdnDT6siAm"
      }
    },
    {
      "cell_type": "code",
      "source": [
        "df.shape"
      ],
      "metadata": {
        "execution": {
          "iopub.status.busy": "2021-12-31T18:56:47.269667Z",
          "iopub.execute_input": "2021-12-31T18:56:47.270011Z",
          "iopub.status.idle": "2021-12-31T18:56:47.276513Z",
          "shell.execute_reply.started": "2021-12-31T18:56:47.269977Z",
          "shell.execute_reply": "2021-12-31T18:56:47.275687Z"
        },
        "trusted": true,
        "id": "rR-2NV4ssiAm"
      },
      "execution_count": null,
      "outputs": []
    },
    {
      "cell_type": "code",
      "source": [
        "df.head(5)"
      ],
      "metadata": {
        "execution": {
          "iopub.status.busy": "2021-12-31T18:56:47.613142Z",
          "iopub.execute_input": "2021-12-31T18:56:47.613539Z",
          "iopub.status.idle": "2021-12-31T18:56:47.658922Z",
          "shell.execute_reply.started": "2021-12-31T18:56:47.613509Z",
          "shell.execute_reply": "2021-12-31T18:56:47.658309Z"
        },
        "trusted": true,
        "id": "KYHq4cp3siAn"
      },
      "execution_count": null,
      "outputs": []
    },
    {
      "cell_type": "code",
      "source": [
        "df.columns"
      ],
      "metadata": {
        "execution": {
          "iopub.status.busy": "2021-12-31T18:56:47.948319Z",
          "iopub.execute_input": "2021-12-31T18:56:47.948602Z",
          "iopub.status.idle": "2021-12-31T18:56:47.954587Z",
          "shell.execute_reply.started": "2021-12-31T18:56:47.948571Z",
          "shell.execute_reply": "2021-12-31T18:56:47.953845Z"
        },
        "trusted": true,
        "id": "ZmGyP1ZJsiAn"
      },
      "execution_count": null,
      "outputs": []
    },
    {
      "cell_type": "code",
      "source": [
        "df.dtypes"
      ],
      "metadata": {
        "execution": {
          "iopub.status.busy": "2021-12-31T18:56:48.282973Z",
          "iopub.execute_input": "2021-12-31T18:56:48.283386Z",
          "iopub.status.idle": "2021-12-31T18:56:48.290983Z",
          "shell.execute_reply.started": "2021-12-31T18:56:48.283347Z",
          "shell.execute_reply": "2021-12-31T18:56:48.290188Z"
        },
        "trusted": true,
        "id": "pmdToLCHsiAn"
      },
      "execution_count": null,
      "outputs": []
    },
    {
      "cell_type": "code",
      "source": [
        "df.describe()"
      ],
      "metadata": {
        "execution": {
          "iopub.status.busy": "2021-12-31T18:56:48.647734Z",
          "iopub.execute_input": "2021-12-31T18:56:48.648041Z",
          "iopub.status.idle": "2021-12-31T18:56:48.687364Z",
          "shell.execute_reply.started": "2021-12-31T18:56:48.648007Z",
          "shell.execute_reply": "2021-12-31T18:56:48.686367Z"
        },
        "trusted": true,
        "id": "JR-Han3rsiAn"
      },
      "execution_count": null,
      "outputs": []
    },
    {
      "cell_type": "markdown",
      "source": [
        "# Step 2: Data Preperation\n",
        "- Dropping irrelevant columns and rows\n",
        "- Identifying duplicated columns\n",
        "- Renaming Columns\n",
        "- Feature Creation"
      ],
      "metadata": {
        "id": "Z2Ehf8E7siAn"
      }
    },
    {
      "cell_type": "code",
      "source": [
        "# Example of dropping columns\n",
        "# df.drop(['Opening date'], axis=1)"
      ],
      "metadata": {
        "execution": {
          "iopub.status.busy": "2021-12-31T19:02:01.35753Z",
          "iopub.execute_input": "2021-12-31T19:02:01.357864Z",
          "iopub.status.idle": "2021-12-31T19:02:01.361906Z",
          "shell.execute_reply.started": "2021-12-31T19:02:01.357828Z",
          "shell.execute_reply": "2021-12-31T19:02:01.361166Z"
        },
        "trusted": true,
        "id": "HMNIBOqnsiAo"
      },
      "execution_count": null,
      "outputs": []
    },
    {
      "cell_type": "code",
      "source": [
        "df = df[['coaster_name',\n",
        "    # 'Length', 'Speed',\n",
        "    'Location', 'Status',\n",
        "    # 'Opening date',\n",
        "    #   'Type',\n",
        "    'Manufacturer',\n",
        "#     'Height restriction', 'Model', 'Height',\n",
        "#        'Inversions', 'Lift/launch system', 'Cost', 'Trains', 'Park section',\n",
        "#        'Duration', 'Capacity', 'G-force', 'Designer', 'Max vertical angle',\n",
        "#        'Drop', 'Soft opening date', 'Fast Lane available', 'Replaced',\n",
        "#        'Track layout', 'Fastrack available', 'Soft opening date.1',\n",
        "#        'Closing date',\n",
        "#     'Opened',\n",
        "    # 'Replaced by', 'Website',\n",
        "#        'Flash Pass Available', 'Must transfer from wheelchair', 'Theme',\n",
        "#        'Single rider line available', 'Restraint Style',\n",
        "#        'Flash Pass available', 'Acceleration', 'Restraints', 'Name',\n",
        "       'year_introduced',\n",
        "        'latitude', 'longitude',\n",
        "    'Type_Main',\n",
        "       'opening_date_clean',\n",
        "    #'speed1', 'speed2', 'speed1_value', 'speed1_unit',\n",
        "       'speed_mph',\n",
        "    #'height_value', 'height_unit',\n",
        "    'height_ft',\n",
        "       'Inversions_clean', 'Gforce_clean']].copy()"
      ],
      "metadata": {
        "execution": {
          "iopub.status.busy": "2021-12-31T19:02:44.759287Z",
          "iopub.execute_input": "2021-12-31T19:02:44.759556Z",
          "iopub.status.idle": "2021-12-31T19:02:44.768073Z",
          "shell.execute_reply.started": "2021-12-31T19:02:44.759528Z",
          "shell.execute_reply": "2021-12-31T19:02:44.767002Z"
        },
        "trusted": true,
        "id": "HFrL8cA8siAo"
      },
      "execution_count": null,
      "outputs": []
    },
    {
      "cell_type": "code",
      "source": [
        "df['opening_date_clean'] = pd.to_datetime(df['opening_date_clean'])"
      ],
      "metadata": {
        "execution": {
          "iopub.status.busy": "2021-12-31T19:03:34.100419Z",
          "iopub.execute_input": "2021-12-31T19:03:34.10083Z",
          "iopub.status.idle": "2021-12-31T19:03:34.108123Z",
          "shell.execute_reply.started": "2021-12-31T19:03:34.100799Z",
          "shell.execute_reply": "2021-12-31T19:03:34.107322Z"
        },
        "trusted": true,
        "id": "cw0PvMVBsiAo"
      },
      "execution_count": null,
      "outputs": []
    },
    {
      "cell_type": "code",
      "source": [
        "# Rename our columns\n",
        "df = df.rename(columns={'coaster_name':'Coaster_Name',\n",
        "                   'year_introduced':'Year_Introduced',\n",
        "                   'opening_date_clean':'Opening_Date',\n",
        "                   'speed_mph':'Speed_mph',\n",
        "                   'height_ft':'Height_ft',\n",
        "                   'Inversions_clean':'Inversions',\n",
        "                   'Gforce_clean':'Gforce'})"
      ],
      "metadata": {
        "execution": {
          "iopub.status.busy": "2021-12-31T19:07:00.935467Z",
          "iopub.execute_input": "2021-12-31T19:07:00.936143Z",
          "iopub.status.idle": "2021-12-31T19:07:00.943112Z",
          "shell.execute_reply.started": "2021-12-31T19:07:00.936091Z",
          "shell.execute_reply": "2021-12-31T19:07:00.942155Z"
        },
        "trusted": true,
        "id": "YGOV8YS1siAo"
      },
      "execution_count": null,
      "outputs": []
    },
    {
      "cell_type": "code",
      "source": [
        "df.isna().sum()"
      ],
      "metadata": {
        "execution": {
          "iopub.status.busy": "2021-12-31T19:07:47.743843Z",
          "iopub.execute_input": "2021-12-31T19:07:47.744794Z",
          "iopub.status.idle": "2021-12-31T19:07:47.754112Z",
          "shell.execute_reply.started": "2021-12-31T19:07:47.744749Z",
          "shell.execute_reply": "2021-12-31T19:07:47.753179Z"
        },
        "trusted": true,
        "id": "2qTUgnf3siAo"
      },
      "execution_count": null,
      "outputs": []
    },
    {
      "cell_type": "code",
      "source": [
        "df.loc[df.duplicated()]"
      ],
      "metadata": {
        "execution": {
          "iopub.status.busy": "2021-12-31T19:09:09.229944Z",
          "iopub.execute_input": "2021-12-31T19:09:09.23084Z",
          "iopub.status.idle": "2021-12-31T19:09:09.2479Z",
          "shell.execute_reply.started": "2021-12-31T19:09:09.230776Z",
          "shell.execute_reply": "2021-12-31T19:09:09.247222Z"
        },
        "trusted": true,
        "id": "WAnIKNuZsiAp"
      },
      "execution_count": null,
      "outputs": []
    },
    {
      "cell_type": "code",
      "source": [
        "# Check for duplicate coaster name\n",
        "df.loc[df.duplicated(subset=['Coaster_Name'])].head(5)"
      ],
      "metadata": {
        "execution": {
          "iopub.status.busy": "2021-12-31T19:10:13.801128Z",
          "iopub.execute_input": "2021-12-31T19:10:13.801563Z",
          "iopub.status.idle": "2021-12-31T19:10:13.824876Z",
          "shell.execute_reply.started": "2021-12-31T19:10:13.801525Z",
          "shell.execute_reply": "2021-12-31T19:10:13.824228Z"
        },
        "trusted": true,
        "id": "VhT9NtwWsiAp"
      },
      "execution_count": null,
      "outputs": []
    },
    {
      "cell_type": "code",
      "source": [
        "# Checking an example duplicate\n",
        "df.query('Coaster_Name == \"Crystal Beach Cyclone\"')"
      ],
      "metadata": {
        "execution": {
          "iopub.status.busy": "2021-12-31T19:11:30.91631Z",
          "iopub.execute_input": "2021-12-31T19:11:30.916627Z",
          "iopub.status.idle": "2021-12-31T19:11:30.934924Z",
          "shell.execute_reply.started": "2021-12-31T19:11:30.916597Z",
          "shell.execute_reply": "2021-12-31T19:11:30.934358Z"
        },
        "trusted": true,
        "id": "ijD6uJT4siAp"
      },
      "execution_count": null,
      "outputs": []
    },
    {
      "cell_type": "code",
      "source": [
        "df.columns"
      ],
      "metadata": {
        "execution": {
          "iopub.status.busy": "2021-12-31T19:11:46.197705Z",
          "iopub.execute_input": "2021-12-31T19:11:46.198033Z",
          "iopub.status.idle": "2021-12-31T19:11:46.204172Z",
          "shell.execute_reply.started": "2021-12-31T19:11:46.198003Z",
          "shell.execute_reply": "2021-12-31T19:11:46.203259Z"
        },
        "trusted": true,
        "id": "iNbA4emvsiAp"
      },
      "execution_count": null,
      "outputs": []
    },
    {
      "cell_type": "code",
      "source": [
        "df = df.loc[~df.duplicated(subset=['Coaster_Name','Location','Opening_Date'])] \\\n",
        "    .reset_index(drop=True).copy()"
      ],
      "metadata": {
        "execution": {
          "iopub.status.busy": "2021-12-31T19:13:58.914303Z",
          "iopub.execute_input": "2021-12-31T19:13:58.914698Z",
          "iopub.status.idle": "2021-12-31T19:13:58.9217Z",
          "shell.execute_reply.started": "2021-12-31T19:13:58.914669Z",
          "shell.execute_reply": "2021-12-31T19:13:58.92102Z"
        },
        "trusted": true,
        "id": "PWAl8eySsiAp"
      },
      "execution_count": null,
      "outputs": []
    },
    {
      "cell_type": "markdown",
      "source": [
        "# Step 3: Feature Understanding\n",
        "(Univariate analysis)\n",
        "\n",
        "- Plotting Feature Distributions\n",
        "    - Histogram\n",
        "    - KDE\n",
        "    - Boxplot"
      ],
      "metadata": {
        "id": "4U5avkIGsiAp"
      }
    },
    {
      "cell_type": "code",
      "source": [
        "df['Year_Introduced'].value_counts()"
      ],
      "metadata": {
        "execution": {
          "iopub.status.busy": "2021-12-31T19:15:42.180128Z",
          "iopub.execute_input": "2021-12-31T19:15:42.180536Z",
          "iopub.status.idle": "2021-12-31T19:15:42.188209Z",
          "shell.execute_reply.started": "2021-12-31T19:15:42.180508Z",
          "shell.execute_reply": "2021-12-31T19:15:42.187385Z"
        },
        "trusted": true,
        "id": "yTgil77ysiAp"
      },
      "execution_count": null,
      "outputs": []
    },
    {
      "cell_type": "code",
      "source": [
        "ax = df['Year_Introduced'].value_counts() \\\n",
        "    .head(10) \\\n",
        "    .plot(kind='bar', title='Top 10 Years Coasters Introduced')\n",
        "ax.set_xlabel('Year Introduced')\n",
        "ax.set_ylabel('Count')"
      ],
      "metadata": {
        "execution": {
          "iopub.status.busy": "2021-12-31T19:18:37.875007Z",
          "iopub.execute_input": "2021-12-31T19:18:37.875663Z",
          "iopub.status.idle": "2021-12-31T19:18:38.080836Z",
          "shell.execute_reply.started": "2021-12-31T19:18:37.875615Z",
          "shell.execute_reply": "2021-12-31T19:18:38.07998Z"
        },
        "trusted": true,
        "id": "ttzqDNKlsiAq"
      },
      "execution_count": null,
      "outputs": []
    },
    {
      "cell_type": "code",
      "source": [
        "ax = df['Speed_mph'].plot(kind='hist',\n",
        "                          bins=20,\n",
        "                          title='Coaster Speed (mph)')\n",
        "ax.set_xlabel('Speed (mph)')"
      ],
      "metadata": {
        "execution": {
          "iopub.status.busy": "2021-12-31T19:23:10.801878Z",
          "iopub.execute_input": "2021-12-31T19:23:10.802756Z",
          "iopub.status.idle": "2021-12-31T19:23:11.040812Z",
          "shell.execute_reply.started": "2021-12-31T19:23:10.802718Z",
          "shell.execute_reply": "2021-12-31T19:23:11.039768Z"
        },
        "trusted": true,
        "id": "olTZ6EUxsiAq"
      },
      "execution_count": null,
      "outputs": []
    },
    {
      "cell_type": "code",
      "source": [
        "ax = df['Speed_mph'].plot(kind='kde',\n",
        "                          title='Coaster Speed (mph)')\n",
        "ax.set_xlabel('Speed (mph)')"
      ],
      "metadata": {
        "execution": {
          "iopub.status.busy": "2021-12-31T19:23:50.580456Z",
          "iopub.execute_input": "2021-12-31T19:23:50.580721Z",
          "iopub.status.idle": "2021-12-31T19:23:50.777702Z",
          "shell.execute_reply.started": "2021-12-31T19:23:50.580693Z",
          "shell.execute_reply": "2021-12-31T19:23:50.776696Z"
        },
        "trusted": true,
        "id": "Yoq78SBesiAq"
      },
      "execution_count": null,
      "outputs": []
    },
    {
      "cell_type": "code",
      "source": [
        "df['Type_Main'].value_counts()"
      ],
      "metadata": {
        "execution": {
          "iopub.status.busy": "2021-12-31T19:24:46.445487Z",
          "iopub.execute_input": "2021-12-31T19:24:46.445746Z",
          "iopub.status.idle": "2021-12-31T19:24:46.454475Z",
          "shell.execute_reply.started": "2021-12-31T19:24:46.445719Z",
          "shell.execute_reply": "2021-12-31T19:24:46.453787Z"
        },
        "trusted": true,
        "id": "_vUbEzbGsiAq"
      },
      "execution_count": null,
      "outputs": []
    },
    {
      "cell_type": "markdown",
      "source": [
        "# Step 4: Feature Relationships\n",
        "- Scatterplot\n",
        "- Heatmap Correlation\n",
        "- Pairplot\n",
        "- Groupby comparisons"
      ],
      "metadata": {
        "id": "xOmJ3MstsiAq"
      }
    },
    {
      "cell_type": "code",
      "source": [
        "df.plot(kind='scatter',\n",
        "        x='Speed_mph',\n",
        "        y='Height_ft',\n",
        "        title='Coaster Speed vs. Height')\n",
        "plt.show()"
      ],
      "metadata": {
        "execution": {
          "iopub.status.busy": "2021-12-31T19:28:27.768444Z",
          "iopub.execute_input": "2021-12-31T19:28:27.768762Z",
          "iopub.status.idle": "2021-12-31T19:28:27.997695Z",
          "shell.execute_reply.started": "2021-12-31T19:28:27.768721Z",
          "shell.execute_reply": "2021-12-31T19:28:27.996745Z"
        },
        "trusted": true,
        "id": "x31FhriKsiAq"
      },
      "execution_count": null,
      "outputs": []
    },
    {
      "cell_type": "code",
      "source": [
        "ax = sns.scatterplot(x='Speed_mph',\n",
        "                y='Height_ft',\n",
        "                hue='Year_Introduced',\n",
        "                data=df)\n",
        "ax.set_title('Coaster Speed vs. Height')\n",
        "plt.show()"
      ],
      "metadata": {
        "execution": {
          "iopub.status.busy": "2021-12-31T19:33:28.681335Z",
          "iopub.execute_input": "2021-12-31T19:33:28.681767Z",
          "iopub.status.idle": "2021-12-31T19:33:28.987093Z",
          "shell.execute_reply.started": "2021-12-31T19:33:28.681729Z",
          "shell.execute_reply": "2021-12-31T19:33:28.986081Z"
        },
        "trusted": true,
        "id": "ZQ3iI3resiAq"
      },
      "execution_count": null,
      "outputs": []
    },
    {
      "cell_type": "code",
      "source": [
        "sns.pairplot(df,\n",
        "             vars=['Year_Introduced','Speed_mph',\n",
        "                   'Height_ft','Inversions','Gforce'],\n",
        "            hue='Type_Main')\n",
        "plt.show()"
      ],
      "metadata": {
        "execution": {
          "iopub.status.busy": "2021-12-31T19:44:18.59614Z",
          "iopub.execute_input": "2021-12-31T19:44:18.596449Z",
          "iopub.status.idle": "2021-12-31T19:44:26.264213Z",
          "shell.execute_reply.started": "2021-12-31T19:44:18.59642Z",
          "shell.execute_reply": "2021-12-31T19:44:26.263222Z"
        },
        "trusted": true,
        "id": "4f9ZeDYdsiAr"
      },
      "execution_count": null,
      "outputs": []
    },
    {
      "cell_type": "code",
      "source": [
        "df_corr = df[['Year_Introduced','Speed_mph',\n",
        "    'Height_ft','Inversions','Gforce']].dropna().corr()\n",
        "df_corr"
      ],
      "metadata": {
        "execution": {
          "iopub.status.busy": "2021-12-31T19:46:48.88683Z",
          "iopub.execute_input": "2021-12-31T19:46:48.887658Z",
          "iopub.status.idle": "2021-12-31T19:46:48.905496Z",
          "shell.execute_reply.started": "2021-12-31T19:46:48.887613Z",
          "shell.execute_reply": "2021-12-31T19:46:48.904692Z"
        },
        "trusted": true,
        "id": "mnYD5oyCsiAr"
      },
      "execution_count": null,
      "outputs": []
    },
    {
      "cell_type": "code",
      "source": [
        "sns.heatmap(df_corr, annot=True)"
      ],
      "metadata": {
        "execution": {
          "iopub.status.busy": "2021-12-31T19:47:08.677068Z",
          "iopub.execute_input": "2021-12-31T19:47:08.677335Z",
          "iopub.status.idle": "2021-12-31T19:47:08.996226Z",
          "shell.execute_reply.started": "2021-12-31T19:47:08.677308Z",
          "shell.execute_reply": "2021-12-31T19:47:08.995238Z"
        },
        "trusted": true,
        "id": "rJUe0S6nsiAr"
      },
      "execution_count": null,
      "outputs": []
    },
    {
      "cell_type": "markdown",
      "source": [
        "# Step 5: Conclusion\n",
        "\n",
        "\n",
        "What are the locations with the fastest roller coasters (minimum of 10)?"
      ],
      "metadata": {
        "execution": {
          "iopub.status.busy": "2021-12-31T20:08:11.029825Z",
          "iopub.execute_input": "2021-12-31T20:08:11.030274Z",
          "iopub.status.idle": "2021-12-31T20:08:11.035592Z",
          "shell.execute_reply.started": "2021-12-31T20:08:11.030244Z",
          "shell.execute_reply": "2021-12-31T20:08:11.03458Z"
        },
        "id": "EJ7RvzndsiAr"
      }
    },
    {
      "cell_type": "code",
      "source": [
        "ax = df.query('Location != \"Other\"') \\\n",
        "    .groupby('Location')['Speed_mph'] \\\n",
        "    .agg(['mean','count']) \\\n",
        "    .query('count >= 10') \\\n",
        "    .sort_values('mean')['mean'] \\\n",
        "    .plot(kind='barh', figsize=(12, 5), title='Average Coast Speed by Location')\n",
        "ax.set_xlabel('Average Coaster Speed')\n",
        "plt.show()"
      ],
      "metadata": {
        "execution": {
          "iopub.status.busy": "2021-12-31T20:12:48.582882Z",
          "iopub.execute_input": "2021-12-31T20:12:48.583615Z",
          "iopub.status.idle": "2021-12-31T20:12:48.841186Z",
          "shell.execute_reply.started": "2021-12-31T20:12:48.583584Z",
          "shell.execute_reply": "2021-12-31T20:12:48.840345Z"
        },
        "trusted": true,
        "id": "fa8n4eYwsiAr"
      },
      "execution_count": null,
      "outputs": []
    }
  ]
}